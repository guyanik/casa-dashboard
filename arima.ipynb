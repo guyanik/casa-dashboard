{
 "cells": [
  {
   "cell_type": "code",
   "execution_count": 70,
   "metadata": {},
   "outputs": [],
   "source": [
    "import numpy as np\n",
    "import pandas as pd\n",
    "import pmdarima as pm\n",
    "import matplotlib.pyplot as plt\n",
    "import matplotlib.dates as mdates"
   ]
  },
  {
   "cell_type": "code",
   "execution_count": 71,
   "metadata": {},
   "outputs": [
    {
     "data": {
      "text/html": [
       "<div>\n",
       "<style scoped>\n",
       "    .dataframe tbody tr th:only-of-type {\n",
       "        vertical-align: middle;\n",
       "    }\n",
       "\n",
       "    .dataframe tbody tr th {\n",
       "        vertical-align: top;\n",
       "    }\n",
       "\n",
       "    .dataframe thead th {\n",
       "        text-align: right;\n",
       "    }\n",
       "</style>\n",
       "<table border=\"1\" class=\"dataframe\">\n",
       "  <thead>\n",
       "    <tr style=\"text-align: right;\">\n",
       "      <th></th>\n",
       "      <th>USERCOUNT</th>\n",
       "      <th>SECONDSSPENT</th>\n",
       "      <th>QUANTITY</th>\n",
       "      <th>VOLUME</th>\n",
       "      <th>WEIGHT</th>\n",
       "      <th>PRICE</th>\n",
       "    </tr>\n",
       "  </thead>\n",
       "  <tbody>\n",
       "    <tr>\n",
       "      <th>2022-08-16</th>\n",
       "      <td>15</td>\n",
       "      <td>24864</td>\n",
       "      <td>1564</td>\n",
       "      <td>5.510447</td>\n",
       "      <td>606.628000</td>\n",
       "      <td>7714.46</td>\n",
       "    </tr>\n",
       "    <tr>\n",
       "      <th>2022-08-17</th>\n",
       "      <td>46</td>\n",
       "      <td>648639</td>\n",
       "      <td>153271</td>\n",
       "      <td>900.823306</td>\n",
       "      <td>87245.837728</td>\n",
       "      <td>731227.04</td>\n",
       "    </tr>\n",
       "    <tr>\n",
       "      <th>2022-08-18</th>\n",
       "      <td>72</td>\n",
       "      <td>1535976</td>\n",
       "      <td>353781</td>\n",
       "      <td>2687.981897</td>\n",
       "      <td>247269.820740</td>\n",
       "      <td>2135600.74</td>\n",
       "    </tr>\n",
       "    <tr>\n",
       "      <th>2022-08-19</th>\n",
       "      <td>70</td>\n",
       "      <td>1253113</td>\n",
       "      <td>395921</td>\n",
       "      <td>2944.799061</td>\n",
       "      <td>262781.058485</td>\n",
       "      <td>2136707.30</td>\n",
       "    </tr>\n",
       "    <tr>\n",
       "      <th>2022-08-20</th>\n",
       "      <td>6</td>\n",
       "      <td>67002</td>\n",
       "      <td>593</td>\n",
       "      <td>14.290446</td>\n",
       "      <td>975.280591</td>\n",
       "      <td>14861.86</td>\n",
       "    </tr>\n",
       "    <tr>\n",
       "      <th>...</th>\n",
       "      <td>...</td>\n",
       "      <td>...</td>\n",
       "      <td>...</td>\n",
       "      <td>...</td>\n",
       "      <td>...</td>\n",
       "      <td>...</td>\n",
       "    </tr>\n",
       "    <tr>\n",
       "      <th>2023-09-25</th>\n",
       "      <td>101</td>\n",
       "      <td>1171721</td>\n",
       "      <td>854092</td>\n",
       "      <td>2678.434373</td>\n",
       "      <td>292547.191456</td>\n",
       "      <td>1875797.61</td>\n",
       "    </tr>\n",
       "    <tr>\n",
       "      <th>2023-09-26</th>\n",
       "      <td>110</td>\n",
       "      <td>1249771</td>\n",
       "      <td>1016887</td>\n",
       "      <td>3483.392239</td>\n",
       "      <td>371822.547589</td>\n",
       "      <td>2318629.60</td>\n",
       "    </tr>\n",
       "    <tr>\n",
       "      <th>2023-09-27</th>\n",
       "      <td>104</td>\n",
       "      <td>1257222</td>\n",
       "      <td>939123</td>\n",
       "      <td>2998.222002</td>\n",
       "      <td>300263.198492</td>\n",
       "      <td>1850064.42</td>\n",
       "    </tr>\n",
       "    <tr>\n",
       "      <th>2023-09-28</th>\n",
       "      <td>109</td>\n",
       "      <td>1339688</td>\n",
       "      <td>1224169</td>\n",
       "      <td>3863.465093</td>\n",
       "      <td>384720.606181</td>\n",
       "      <td>2390796.27</td>\n",
       "    </tr>\n",
       "    <tr>\n",
       "      <th>2023-09-29</th>\n",
       "      <td>107</td>\n",
       "      <td>1381580</td>\n",
       "      <td>1109442</td>\n",
       "      <td>3556.001516</td>\n",
       "      <td>377380.162562</td>\n",
       "      <td>2196789.75</td>\n",
       "    </tr>\n",
       "  </tbody>\n",
       "</table>\n",
       "<p>410 rows × 6 columns</p>\n",
       "</div>"
      ],
      "text/plain": [
       "            USERCOUNT  SECONDSSPENT  QUANTITY       VOLUME         WEIGHT  \\\n",
       "2022-08-16         15         24864      1564     5.510447     606.628000   \n",
       "2022-08-17         46        648639    153271   900.823306   87245.837728   \n",
       "2022-08-18         72       1535976    353781  2687.981897  247269.820740   \n",
       "2022-08-19         70       1253113    395921  2944.799061  262781.058485   \n",
       "2022-08-20          6         67002       593    14.290446     975.280591   \n",
       "...               ...           ...       ...          ...            ...   \n",
       "2023-09-25        101       1171721    854092  2678.434373  292547.191456   \n",
       "2023-09-26        110       1249771   1016887  3483.392239  371822.547589   \n",
       "2023-09-27        104       1257222    939123  2998.222002  300263.198492   \n",
       "2023-09-28        109       1339688   1224169  3863.465093  384720.606181   \n",
       "2023-09-29        107       1381580   1109442  3556.001516  377380.162562   \n",
       "\n",
       "                 PRICE  \n",
       "2022-08-16     7714.46  \n",
       "2022-08-17   731227.04  \n",
       "2022-08-18  2135600.74  \n",
       "2022-08-19  2136707.30  \n",
       "2022-08-20    14861.86  \n",
       "...                ...  \n",
       "2023-09-25  1875797.61  \n",
       "2023-09-26  2318629.60  \n",
       "2023-09-27  1850064.42  \n",
       "2023-09-28  2390796.27  \n",
       "2023-09-29  2196789.75  \n",
       "\n",
       "[410 rows x 6 columns]"
      ]
     },
     "execution_count": 71,
     "metadata": {},
     "output_type": "execute_result"
    }
   ],
   "source": [
    "df = pd.read_csv('daily_total.csv')\n",
    "df['DATE'] = pd.to_datetime(df['DATE'])\n",
    "df = df[df['DATE'] > '2022-08-10']\n",
    "# fill missing dates with 0\n",
    "df.index = df['DATE']\n",
    "df = df.reindex(pd.date_range(min(df['DATE']), max(df['DATE'])), fill_value=0).drop('DATE', axis=1)\n",
    "df"
   ]
  },
  {
   "cell_type": "code",
   "execution_count": 72,
   "metadata": {},
   "outputs": [
    {
     "name": "stdout",
     "output_type": "stream",
     "text": [
      "Performing stepwise search to minimize aic\n",
      " ARIMA(0,0,0)(1,0,1)[7] intercept   : AIC=12256.182, Time=0.49 sec\n",
      " ARIMA(0,0,0)(0,0,0)[7] intercept   : AIC=12424.248, Time=0.01 sec\n",
      " ARIMA(1,0,0)(1,0,0)[7] intercept   : AIC=12167.553, Time=0.11 sec\n",
      " ARIMA(0,0,1)(0,0,1)[7] intercept   : AIC=12200.522, Time=0.06 sec\n",
      " ARIMA(0,0,0)(0,0,0)[7]             : AIC=12826.309, Time=0.01 sec\n"
     ]
    },
    {
     "name": "stderr",
     "output_type": "stream",
     "text": [
      "/Users/hgu/opt/anaconda3/lib/python3.9/site-packages/statsmodels/tsa/statespace/sarimax.py:1899: RuntimeWarning: invalid value encountered in reciprocal\n",
      "  return np.roots(self.polynomial_reduced_ar)**-1\n"
     ]
    },
    {
     "name": "stdout",
     "output_type": "stream",
     "text": [
      " ARIMA(1,0,0)(0,0,0)[7] intercept   : AIC=12345.077, Time=0.03 sec\n",
      " ARIMA(1,0,0)(2,0,0)[7] intercept   : AIC=12160.175, Time=0.21 sec\n",
      " ARIMA(1,0,0)(2,0,1)[7] intercept   : AIC=inf, Time=0.65 sec\n",
      " ARIMA(1,0,0)(1,0,1)[7] intercept   : AIC=12161.924, Time=0.21 sec\n",
      " ARIMA(0,0,0)(2,0,0)[7] intercept   : AIC=12333.387, Time=0.17 sec\n",
      " ARIMA(2,0,0)(2,0,0)[7] intercept   : AIC=12173.599, Time=0.28 sec\n"
     ]
    },
    {
     "name": "stderr",
     "output_type": "stream",
     "text": [
      "/Users/hgu/opt/anaconda3/lib/python3.9/site-packages/statsmodels/tsa/statespace/sarimax.py:1906: RuntimeWarning: invalid value encountered in reciprocal\n",
      "  return np.roots(self.polynomial_reduced_ma)**-1\n"
     ]
    },
    {
     "name": "stdout",
     "output_type": "stream",
     "text": [
      " ARIMA(1,0,1)(2,0,0)[7] intercept   : AIC=inf, Time=0.54 sec\n"
     ]
    },
    {
     "name": "stderr",
     "output_type": "stream",
     "text": [
      "/Users/hgu/opt/anaconda3/lib/python3.9/site-packages/statsmodels/tsa/statespace/sarimax.py:1906: RuntimeWarning: invalid value encountered in reciprocal\n",
      "  return np.roots(self.polynomial_reduced_ma)**-1\n"
     ]
    },
    {
     "name": "stdout",
     "output_type": "stream",
     "text": [
      " ARIMA(0,0,1)(2,0,0)[7] intercept   : AIC=12192.381, Time=0.21 sec\n",
      " ARIMA(2,0,1)(2,0,0)[7] intercept   : AIC=inf, Time=0.88 sec\n",
      " ARIMA(1,0,0)(2,0,0)[7]             : AIC=12160.623, Time=0.12 sec\n",
      "\n",
      "Best model:  ARIMA(1,0,0)(2,0,0)[7] intercept\n",
      "Total fit time: 4.000 seconds\n"
     ]
    },
    {
     "name": "stderr",
     "output_type": "stream",
     "text": [
      "/Users/hgu/opt/anaconda3/lib/python3.9/site-packages/statsmodels/tsa/statespace/sarimax.py:1906: RuntimeWarning: invalid value encountered in reciprocal\n",
      "  return np.roots(self.polynomial_reduced_ma)**-1\n"
     ]
    }
   ],
   "source": [
    "periods = 7\n",
    "\n",
    "model = pm.auto_arima(df['SECONDSSPENT'], \n",
    "                      m=periods, \n",
    "                      seasonal=True, \n",
    "                      start_p=0, \n",
    "                      start_q=0, \n",
    "                      max_order=4, \n",
    "                      test='adf', \n",
    "                      trace=True, \n",
    "                      error_action='ignore', \n",
    "                      suppress_warnings=True, \n",
    "                      stepwise=True)"
   ]
  },
  {
   "cell_type": "code",
   "execution_count": 73,
   "metadata": {},
   "outputs": [
    {
     "name": "stdout",
     "output_type": "stream",
     "text": [
      "(403, 6) (7, 6)\n"
     ]
    }
   ],
   "source": [
    "# split into train and test sets\n",
    "# train_size = int(len(df) * 0.8)\n",
    "# test_size = len(df) - train_size\n",
    "train, test = df[:-periods], df[-periods:]\n",
    "print(train.shape, test.shape)"
   ]
  },
  {
   "cell_type": "code",
   "execution_count": 74,
   "metadata": {},
   "outputs": [
    {
     "data": {
      "text/html": [
       "<table class=\"simpletable\">\n",
       "<caption>SARIMAX Results</caption>\n",
       "<tr>\n",
       "  <th>Dep. Variable:</th>                 <td>y</td>               <th>  No. Observations:  </th>    <td>403</td>   \n",
       "</tr>\n",
       "<tr>\n",
       "  <th>Model:</th>           <td>SARIMAX(1, 0, 0)x(2, 0, 0, 7)</td> <th>  Log Likelihood     </th> <td>-5973.993</td>\n",
       "</tr>\n",
       "<tr>\n",
       "  <th>Date:</th>                  <td>Fri, 15 Dec 2023</td>        <th>  AIC                </th> <td>11957.987</td>\n",
       "</tr>\n",
       "<tr>\n",
       "  <th>Time:</th>                      <td>01:34:49</td>            <th>  BIC                </th> <td>11977.982</td>\n",
       "</tr>\n",
       "<tr>\n",
       "  <th>Sample:</th>                   <td>08-16-2022</td>           <th>  HQIC               </th> <td>11965.903</td>\n",
       "</tr>\n",
       "<tr>\n",
       "  <th></th>                         <td>- 09-22-2023</td>          <th>                     </th>     <td> </td>    \n",
       "</tr>\n",
       "<tr>\n",
       "  <th>Covariance Type:</th>              <td>opg</td>              <th>                     </th>     <td> </td>    \n",
       "</tr>\n",
       "</table>\n",
       "<table class=\"simpletable\">\n",
       "<tr>\n",
       "      <td></td>         <th>coef</th>     <th>std err</th>      <th>z</th>      <th>P>|z|</th>  <th>[0.025</th>    <th>0.975]</th>  \n",
       "</tr>\n",
       "<tr>\n",
       "  <th>intercept</th> <td> 6.902e+05</td> <td> 9.23e+04</td> <td>    7.482</td> <td> 0.000</td> <td> 5.09e+05</td> <td> 8.71e+05</td>\n",
       "</tr>\n",
       "<tr>\n",
       "  <th>ar.L1</th>     <td>    0.0258</td> <td>    0.087</td> <td>    0.297</td> <td> 0.767</td> <td>   -0.145</td> <td>    0.196</td>\n",
       "</tr>\n",
       "<tr>\n",
       "  <th>ar.S.L7</th>   <td>    0.3398</td> <td>    0.075</td> <td>    4.507</td> <td> 0.000</td> <td>    0.192</td> <td>    0.488</td>\n",
       "</tr>\n",
       "<tr>\n",
       "  <th>ar.S.L14</th>  <td>    0.2166</td> <td>    0.077</td> <td>    2.797</td> <td> 0.005</td> <td>    0.065</td> <td>    0.368</td>\n",
       "</tr>\n",
       "<tr>\n",
       "  <th>sigma2</th>    <td> 6.942e+11</td> <td>    0.019</td> <td> 3.73e+13</td> <td> 0.000</td> <td> 6.94e+11</td> <td> 6.94e+11</td>\n",
       "</tr>\n",
       "</table>\n",
       "<table class=\"simpletable\">\n",
       "<tr>\n",
       "  <th>Ljung-Box (L1) (Q):</th>     <td>37.76</td> <th>  Jarque-Bera (JB):  </th> <td>16.61</td>\n",
       "</tr>\n",
       "<tr>\n",
       "  <th>Prob(Q):</th>                <td>0.00</td>  <th>  Prob(JB):          </th> <td>0.00</td> \n",
       "</tr>\n",
       "<tr>\n",
       "  <th>Heteroskedasticity (H):</th> <td>0.64</td>  <th>  Skew:              </th> <td>0.09</td> \n",
       "</tr>\n",
       "<tr>\n",
       "  <th>Prob(H) (two-sided):</th>    <td>0.01</td>  <th>  Kurtosis:          </th> <td>3.98</td> \n",
       "</tr>\n",
       "</table><br/><br/>Warnings:<br/>[1] Covariance matrix calculated using the outer product of gradients (complex-step).<br/>[2] Covariance matrix is singular or near-singular, with condition number 9.09e+36. Standard errors may be unstable."
      ],
      "text/plain": [
       "<class 'statsmodels.iolib.summary.Summary'>\n",
       "\"\"\"\n",
       "                                     SARIMAX Results                                     \n",
       "=========================================================================================\n",
       "Dep. Variable:                                 y   No. Observations:                  403\n",
       "Model:             SARIMAX(1, 0, 0)x(2, 0, 0, 7)   Log Likelihood               -5973.993\n",
       "Date:                           Fri, 15 Dec 2023   AIC                          11957.987\n",
       "Time:                                   01:34:49   BIC                          11977.982\n",
       "Sample:                               08-16-2022   HQIC                         11965.903\n",
       "                                    - 09-22-2023                                         \n",
       "Covariance Type:                             opg                                         \n",
       "==============================================================================\n",
       "                 coef    std err          z      P>|z|      [0.025      0.975]\n",
       "------------------------------------------------------------------------------\n",
       "intercept   6.902e+05   9.23e+04      7.482      0.000    5.09e+05    8.71e+05\n",
       "ar.L1          0.0258      0.087      0.297      0.767      -0.145       0.196\n",
       "ar.S.L7        0.3398      0.075      4.507      0.000       0.192       0.488\n",
       "ar.S.L14       0.2166      0.077      2.797      0.005       0.065       0.368\n",
       "sigma2      6.942e+11      0.019   3.73e+13      0.000    6.94e+11    6.94e+11\n",
       "===================================================================================\n",
       "Ljung-Box (L1) (Q):                  37.76   Jarque-Bera (JB):                16.61\n",
       "Prob(Q):                              0.00   Prob(JB):                         0.00\n",
       "Heteroskedasticity (H):               0.64   Skew:                             0.09\n",
       "Prob(H) (two-sided):                  0.01   Kurtosis:                         3.98\n",
       "===================================================================================\n",
       "\n",
       "Warnings:\n",
       "[1] Covariance matrix calculated using the outer product of gradients (complex-step).\n",
       "[2] Covariance matrix is singular or near-singular, with condition number 9.09e+36. Standard errors may be unstable.\n",
       "\"\"\""
      ]
     },
     "execution_count": 74,
     "metadata": {},
     "output_type": "execute_result"
    }
   ],
   "source": [
    "model.fit(train['SECONDSSPENT'])\n",
    "model.summary()"
   ]
  },
  {
   "cell_type": "code",
   "execution_count": 75,
   "metadata": {},
   "outputs": [
    {
     "data": {
      "text/html": [
       "<div>\n",
       "<style scoped>\n",
       "    .dataframe tbody tr th:only-of-type {\n",
       "        vertical-align: middle;\n",
       "    }\n",
       "\n",
       "    .dataframe tbody tr th {\n",
       "        vertical-align: top;\n",
       "    }\n",
       "\n",
       "    .dataframe thead th {\n",
       "        text-align: right;\n",
       "    }\n",
       "</style>\n",
       "<table border=\"1\" class=\"dataframe\">\n",
       "  <thead>\n",
       "    <tr style=\"text-align: right;\">\n",
       "      <th></th>\n",
       "      <th>SECONDSSPENT</th>\n",
       "      <th>FORECAST</th>\n",
       "    </tr>\n",
       "  </thead>\n",
       "  <tbody>\n",
       "    <tr>\n",
       "      <th>2023-09-23</th>\n",
       "      <td>227385.0</td>\n",
       "      <td>7.083601e+05</td>\n",
       "    </tr>\n",
       "    <tr>\n",
       "      <th>2023-09-24</th>\n",
       "      <td>0.0</td>\n",
       "      <td>7.084807e+05</td>\n",
       "    </tr>\n",
       "    <tr>\n",
       "      <th>2023-09-25</th>\n",
       "      <td>1171721.0</td>\n",
       "      <td>1.416243e+06</td>\n",
       "    </tr>\n",
       "    <tr>\n",
       "      <th>2023-09-26</th>\n",
       "      <td>1249771.0</td>\n",
       "      <td>1.347906e+06</td>\n",
       "    </tr>\n",
       "    <tr>\n",
       "      <th>2023-09-27</th>\n",
       "      <td>1257222.0</td>\n",
       "      <td>1.421689e+06</td>\n",
       "    </tr>\n",
       "    <tr>\n",
       "      <th>2023-09-28</th>\n",
       "      <td>1339688.0</td>\n",
       "      <td>1.372048e+06</td>\n",
       "    </tr>\n",
       "    <tr>\n",
       "      <th>2023-09-29</th>\n",
       "      <td>1381580.0</td>\n",
       "      <td>1.333889e+06</td>\n",
       "    </tr>\n",
       "    <tr>\n",
       "      <th>2023-09-30</th>\n",
       "      <td>NaN</td>\n",
       "      <td>9.491853e+05</td>\n",
       "    </tr>\n",
       "    <tr>\n",
       "      <th>2023-10-01</th>\n",
       "      <td>NaN</td>\n",
       "      <td>9.492263e+05</td>\n",
       "    </tr>\n",
       "    <tr>\n",
       "      <th>2023-10-02</th>\n",
       "      <td>NaN</td>\n",
       "      <td>1.474182e+06</td>\n",
       "    </tr>\n",
       "    <tr>\n",
       "      <th>2023-10-03</th>\n",
       "      <td>NaN</td>\n",
       "      <td>1.448256e+06</td>\n",
       "    </tr>\n",
       "    <tr>\n",
       "      <th>2023-10-04</th>\n",
       "      <td>NaN</td>\n",
       "      <td>1.529031e+06</td>\n",
       "    </tr>\n",
       "    <tr>\n",
       "      <th>2023-10-05</th>\n",
       "      <td>NaN</td>\n",
       "      <td>1.452174e+06</td>\n",
       "    </tr>\n",
       "    <tr>\n",
       "      <th>2023-10-06</th>\n",
       "      <td>NaN</td>\n",
       "      <td>1.428075e+06</td>\n",
       "    </tr>\n",
       "  </tbody>\n",
       "</table>\n",
       "</div>"
      ],
      "text/plain": [
       "            SECONDSSPENT      FORECAST\n",
       "2023-09-23      227385.0  7.083601e+05\n",
       "2023-09-24           0.0  7.084807e+05\n",
       "2023-09-25     1171721.0  1.416243e+06\n",
       "2023-09-26     1249771.0  1.347906e+06\n",
       "2023-09-27     1257222.0  1.421689e+06\n",
       "2023-09-28     1339688.0  1.372048e+06\n",
       "2023-09-29     1381580.0  1.333889e+06\n",
       "2023-09-30           NaN  9.491853e+05\n",
       "2023-10-01           NaN  9.492263e+05\n",
       "2023-10-02           NaN  1.474182e+06\n",
       "2023-10-03           NaN  1.448256e+06\n",
       "2023-10-04           NaN  1.529031e+06\n",
       "2023-10-05           NaN  1.452174e+06\n",
       "2023-10-06           NaN  1.428075e+06"
      ]
     },
     "execution_count": 75,
     "metadata": {},
     "output_type": "execute_result"
    }
   ],
   "source": [
    "# add 7 days to df\n",
    "last_day = df.index[-1]\n",
    "forecast = model.predict(n_periods=periods + 7, return_conf_int=True)\n",
    "forecast_range = pd.date_range(start=last_day - pd.DateOffset(days=periods - 1), periods=periods + 7, freq='D')\n",
    "forecast_df = pd.DataFrame(forecast[0], index=forecast_range, columns=['FORECAST'])\n",
    "df_forecast = pd.concat([df['SECONDSSPENT'], forecast_df], axis=1)\n",
    "df_forecast.tail(14)"
   ]
  },
  {
   "cell_type": "code",
   "execution_count": 76,
   "metadata": {},
   "outputs": [],
   "source": [
    "# df_forecast['DATE'] = df_forecast.index\n",
    "# df_forecast.to_csv('arima_forecast.csv', index=False)"
   ]
  },
  {
   "cell_type": "code",
   "execution_count": 82,
   "metadata": {},
   "outputs": [
    {
     "data": {
      "image/png": "[encoded data removed]",
      "text/plain": [
       "<Figure size 1800x600 with 1 Axes>"
      ]
     },
     "metadata": {},
     "output_type": "display_data"
    }
   ],
   "source": [
    "df_plot = df_forecast[-(periods + 5):]\n",
    "date = df_plot.index\n",
    "\n",
    "fig, ax = plt.subplots()\n",
    "fig.set_size_inches(18, 6)\n",
    "ax.plot(date, df_plot['SECONDSSPENT'] / 3600, \n",
    "        linestyle='none', \n",
    "        marker='s',\n",
    "        markerfacecolor='cornflowerblue', \n",
    "        markeredgecolor='black',\n",
    "        markersize=7,\n",
    "        label='Hours spent per day')\n",
    "ax.plot(date, df_plot['FORECAST'] / 3600, \n",
    "        linestyle='-',\n",
    "        marker='o',\n",
    "        markersize=5,\n",
    "        color='red',\n",
    "        label='Forecast')\n",
    "# set min and max of y-axis\n",
    "ax.set_ylim(bottom=0)\n",
    "ax.xaxis.set_major_locator(mdates.DayLocator(interval=1))\n",
    "ax.xaxis.set_major_formatter(mdates.DateFormatter('%Y-%b-%d'))\n",
    "ax.set_xlabel('Date')\n",
    "ax.set_ylabel('Hours Spent')\n",
    "plt.xticks(rotation=75)\n",
    "ax.legend(loc='upper left')\n",
    "plt.show()"
   ]
  },
  {
   "cell_type": "code",
   "execution_count": 81,
   "metadata": {},
   "outputs": [
    {
     "name": "stdout",
     "output_type": "stream",
     "text": [
      "MAE: 32.621 hours\n"
     ]
    }
   ],
   "source": [
    "mae = np.mean(np.abs(df_plot['SECONDSSPENT'] - df_plot['FORECAST'])) / 3600\n",
    "print('MAE: %.3f hours' % mae)"
   ]
  },
  {
   "cell_type": "code",
   "execution_count": 79,
   "metadata": {},
   "outputs": [],
   "source": [
    "# fit ARIMA(1,0,0)(2,0,0)[7]"
   ]
  }
 ],
 "metadata": {
  "kernelspec": {
   "display_name": "base",
   "language": "python",
   "name": "python3"
  },
  "language_info": {
   "codemirror_mode": {
    "name": "ipython",
    "version": 3
   },
   "file_extension": ".py",
   "mimetype": "text/x-python",
   "name": "python",
   "nbconvert_exporter": "python",
   "pygments_lexer": "ipython3",
   "version": "3.9.13"
  }
 },
 "nbformat": 4,
 "nbformat_minor": 2
}
